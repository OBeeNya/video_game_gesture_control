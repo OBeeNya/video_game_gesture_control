{
 "cells": [
  {
   "cell_type": "code",
   "execution_count": 1,
   "metadata": {},
   "outputs": [],
   "source": [
    "import cv2\n",
    "import mediapipe as mp\n",
    "import tensorflow as tf\n",
    "import vgamepad as vg"
   ]
  },
  {
   "cell_type": "code",
   "execution_count": 3,
   "metadata": {},
   "outputs": [
    {
     "name": "stderr",
     "output_type": "stream",
     "text": [
      "c:\\Users\\benja\\Documents\\video_game_gesture_control\\env_vg_gesture_control\\Lib\\site-packages\\keras\\src\\optimizers\\base_optimizer.py:33: UserWarning: Argument `decay` is no longer supported and will be ignored.\n",
      "  warnings.warn(\n",
      "WARNING:absl:Compiled the loaded model, but the compiled metrics have yet to be built. `model.compile_metrics` will be empty until you train or evaluate the model.\n",
      "WARNING:absl:Error in loading the saved optimizer state. As a result, your model is starting with a freshly initialized optimizer.\n"
     ]
    }
   ],
   "source": [
    "# Might need to comment the check in base_optimizer.py (keras)\n",
    "model = tf.keras.models.load_model('models/gesture_model.h5')"
   ]
  },
  {
   "cell_type": "code",
   "execution_count": 4,
   "metadata": {},
   "outputs": [],
   "source": [
    "mp_hands = mp.solutions.hands\n",
    "hands = mp_hands.Hands(static_image_mode=False, max_num_hands=2, min_detection_confidence=0.5)"
   ]
  },
  {
   "cell_type": "code",
   "execution_count": 5,
   "metadata": {},
   "outputs": [],
   "source": [
    "running = True\n",
    "cap = cv2.VideoCapture(0)"
   ]
  },
  {
   "cell_type": "code",
   "execution_count": 6,
   "metadata": {},
   "outputs": [
    {
     "name": "stderr",
     "output_type": "stream",
     "text": [
      "c:\\Users\\benja\\Documents\\video_game_gesture_control\\env_vg_gesture_control\\Lib\\site-packages\\google\\protobuf\\symbol_database.py:55: UserWarning: SymbolDatabase.GetPrototype() is deprecated. Please use message_factory.GetMessageClass() instead. SymbolDatabase.GetPrototype() will be removed soon.\n",
      "  warnings.warn('SymbolDatabase.GetPrototype() is deprecated. Please '\n"
     ]
    }
   ],
   "source": [
    "while running:\n",
    "\tsuccess, frame = cap.read()\n",
    "\tif not success:\n",
    "\t\tbreak\n",
    "\tframe = cv2.flip(frame, 1)\n",
    "\tresults = hands.process(frame)\n",
    "\tif results.multi_hand_landmarks:\n",
    "\t\tfor hand, hand_landmarks in zip(results.multi_handedness, results.multi_hand_landmarks):\n",
    "\t\t\tindex_finger_landmarks = hand_landmarks.landmark[mp_hands.HandLandmark.INDEX_FINGER_TIP]\n",
    "\t\t\tindex_finger_x = int(index_finger_landmarks.x * frame.shape[1])\n",
    "\t\t\tindex_finger_y = int(index_finger_landmarks.y * frame.shape[0])\n",
    "\t\t\tif index_finger_x < frame.shape[1] // 6:\n",
    "\t\t\t\tgesture_x = 'Left'\n",
    "\t\t\telif index_finger_x < frame.shape[1] // 2 and index_finger_x > frame.shape[1] * 1 // 3:\n",
    "\t\t\t\tgesture_x = 'Right'\n",
    "\t\t\telse:\n",
    "\t\t\t\tgesture_x = 'Neutral'\n",
    "\t\t\tif index_finger_y < frame.shape[0] // 3:\n",
    "\t\t\t\tgesture_y = 'Up'\n",
    "\t\t\telif index_finger_y > frame.shape[0] * 2 // 3:\n",
    "\t\t\t\tgesture_y = 'Down'\n",
    "\t\t\telse:\n",
    "\t\t\t\tgesture_y = 'Neutral'\n",
    "\t\t\tif hand.classification[0].label == 'Left' and gesture_x == 'Left' and gesture_y == 'Up':\n",
    "\t\t\t\tprint('left')\n",
    "\t\t\tif hand.classification[0].label == 'Right' and gesture_x == 'Left' and gesture_y == 'Up':\n",
    "\t\t\t\tprint('right')\n",
    "\t\t\tcv2.circle(frame, (index_finger_x, index_finger_y), 10, (0, 255, 0), -1)\n",
    "\t\t\tcv2.putText(frame, gesture_x + gesture_y, (10, 30), cv2.FONT_HERSHEY_SIMPLEX, 1, (0, 0, 255), 2)\n",
    "\tcv2.imshow('Gesture Recognition', frame)\n",
    "\tif cv2.waitKey(1) & 0xFF == ord('q'):\n",
    "\t\tbreak"
   ]
  },
  {
   "cell_type": "markdown",
   "metadata": {},
   "source": [
    "https://github.com/yannbouteiller/vgamepad"
   ]
  }
 ],
 "metadata": {
  "kernelspec": {
   "display_name": "env_vg_motion_control",
   "language": "python",
   "name": "python3"
  },
  "language_info": {
   "codemirror_mode": {
    "name": "ipython",
    "version": 3
   },
   "file_extension": ".py",
   "mimetype": "text/x-python",
   "name": "python",
   "nbconvert_exporter": "python",
   "pygments_lexer": "ipython3",
   "version": "3.11.9"
  }
 },
 "nbformat": 4,
 "nbformat_minor": 2
}
