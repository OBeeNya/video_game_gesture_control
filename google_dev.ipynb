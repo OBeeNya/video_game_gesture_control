{
 "cells": [
  {
   "cell_type": "code",
   "execution_count": 1,
   "metadata": {},
   "outputs": [],
   "source": [
    "import cv2\n",
    "import mediapipe as mp\n",
    "import os\n",
    "import time\n",
    "import vgamepad as vg"
   ]
  },
  {
   "cell_type": "code",
   "execution_count": 2,
   "metadata": {},
   "outputs": [],
   "source": [
    "model_path = os.path.join(os.getcwd(), 'tasks', 'gesture_recognizer.task')"
   ]
  },
  {
   "cell_type": "code",
   "execution_count": 3,
   "metadata": {},
   "outputs": [],
   "source": [
    "BaseOptions = mp.tasks.BaseOptions\n",
    "GestureRecognizer = mp.tasks.vision.GestureRecognizer\n",
    "GestureRecognizerOptions = mp.tasks.vision.GestureRecognizerOptions\n",
    "VisionRunningMode = mp.tasks.vision.RunningMode\n",
    "\n",
    "options = GestureRecognizerOptions(\n",
    "    base_options=BaseOptions(model_asset_path=model_path),\n",
    "    running_mode=VisionRunningMode.VIDEO)\n",
    "\n",
    "recognizer = GestureRecognizer.create_from_options(options)"
   ]
  },
  {
   "cell_type": "code",
   "execution_count": 4,
   "metadata": {},
   "outputs": [],
   "source": [
    "gamepad = vg.VDS4Gamepad()\n",
    "key_mapping = {\n",
    "    'Closed_Fist': vg.DS4_BUTTONS.DS4_BUTTON_CIRCLE,\n",
    "    'Open_Palm': vg.DS4_BUTTONS.DS4_BUTTON_SHOULDER_RIGHT,\n",
    "    # 'Pointing_Up': None,\n",
    "    # 'Thumb_Down': None,\n",
    "    'Thumb_Up': vg.DS4_BUTTONS.DS4_BUTTON_SQUARE,\n",
    "    'Victory': vg.DS4_BUTTONS.DS4_BUTTON_TRIANGLE,\n",
    "    'ILoveYou': vg.DS4_BUTTONS.DS4_BUTTON_CROSS,\n",
    "}"
   ]
  },
  {
   "cell_type": "code",
   "execution_count": 5,
   "metadata": {},
   "outputs": [],
   "source": [
    "mp_hands = mp.solutions.hands\n",
    "hands = mp_hands.Hands()"
   ]
  },
  {
   "cell_type": "code",
   "execution_count": 6,
   "metadata": {},
   "outputs": [],
   "source": [
    "running = True\n",
    "cap = cv2.VideoCapture(0)\n",
    "# previous_left = None\n",
    "# previous_right = None"
   ]
  },
  {
   "cell_type": "code",
   "execution_count": 7,
   "metadata": {},
   "outputs": [],
   "source": [
    "# while running:\n",
    "#     success, frame = cap.read()\n",
    "#     if not success:\n",
    "#         break\n",
    "#     frame = cv2.flip(frame, 1)\n",
    "#     rgb_frame = cv2.cvtColor(frame, cv2.COLOR_BGR2RGB)\n",
    "#     hand_results = hands.process(rgb_frame)\n",
    "#     if hand_results.multi_hand_landmarks:\n",
    "#         for hand_landmarks, handedness in zip(hand_results.multi_hand_landmarks, hand_results.multi_handedness):\n",
    "#             if handedness.classification[0].label == 'Right':\n",
    "#                 mp_image = mp.Image(image_format=mp.ImageFormat.SRGB, data=frame)\n",
    "#                 gesture_recognition_result = recognizer.recognize_for_video(mp_image, int(time.time() * 1000))\n",
    "#                 if gesture_recognition_result.gestures and gesture_recognition_result.gestures[0][0].category_name in key_mapping.keys():\n",
    "#                     category = gesture_recognition_result.gestures[0][0].category_name\n",
    "#                     print(category)\n",
    "#                     if key_mapping[previous_right] and previous_right != category:\n",
    "#                         gamepad.release_button(button=key_mapping[previous_right])\n",
    "#                         gamepad.update()\n",
    "#                     # print(gesture_recognition_result.gestures[0][0].category_name)\n",
    "#                     gamepad.press_button(button=key_mapping[category])\n",
    "#                     gamepad.update()\n",
    "#                     previous_right = category\n",
    "#     cv2.imshow('Gesture Recognition', frame)\n",
    "#     if cv2.waitKey(1) & 0xFF == ord('q'):\n",
    "#         break"
   ]
  },
  {
   "cell_type": "code",
   "execution_count": 7,
   "metadata": {},
   "outputs": [
    {
     "name": "stderr",
     "output_type": "stream",
     "text": [
      "d:\\video_game_gesture_control\\env\\Lib\\site-packages\\google\\protobuf\\symbol_database.py:55: UserWarning: SymbolDatabase.GetPrototype() is deprecated. Please use message_factory.GetMessageClass() instead. SymbolDatabase.GetPrototype() will be removed soon.\n",
      "  warnings.warn('SymbolDatabase.GetPrototype() is deprecated. Please '\n"
     ]
    },
    {
     "name": "stdout",
     "output_type": "stream",
     "text": [
      "Victory : 128\n",
      "Open_Palm : 512\n",
      "Closed_Fist : 64\n",
      "Victory : 128\n",
      "Victory : 128\n",
      "Victory : 128\n",
      "Victory : 128\n",
      "Open_Palm : 512\n",
      "Open_Palm : 512\n",
      "Closed_Fist : 64\n",
      "Closed_Fist : 64\n",
      "Open_Palm : 512\n",
      "Victory : 128\n",
      "Victory : 128\n",
      "Victory : 128\n",
      "Open_Palm : 512\n",
      "Open_Palm : 512\n",
      "Closed_Fist : 64\n",
      "Thumb_Up : 16\n"
     ]
    }
   ],
   "source": [
    "previous = None\n",
    "while running:\n",
    "    _, frame = cap.read()\n",
    "    frame = cv2.flip(frame, 1)\n",
    "    mp_image = mp.Image(image_format=mp.ImageFormat.SRGB, data=frame)\n",
    "    gesture_recognition_result = recognizer.recognize_for_video(mp_image, int(time.time() * 1000))\n",
    "    if gesture_recognition_result.gestures and gesture_recognition_result.gestures[0][0].category_name in key_mapping.keys():\n",
    "        category = gesture_recognition_result.gestures[0][0].category_name\n",
    "        print(category, \":\", key_mapping[category])\n",
    "        # if previous == category:\n",
    "        #     gamepad.release_button(button=key_mapping[category])\n",
    "        #     gamepad.update()\n",
    "        gamepad.press_button(button=key_mapping[category])\n",
    "        gamepad.update()\n",
    "        time.sleep(1.0)\n",
    "        gamepad.release_button(button=key_mapping[category])\n",
    "        gamepad.update()\n",
    "        # previous = category"
   ]
  },
  {
   "cell_type": "code",
   "execution_count": null,
   "metadata": {},
   "outputs": [],
   "source": []
  }
 ],
 "metadata": {
  "kernelspec": {
   "display_name": "env_vg_gesture_control",
   "language": "python",
   "name": "python3"
  },
  "language_info": {
   "codemirror_mode": {
    "name": "ipython",
    "version": 3
   },
   "file_extension": ".py",
   "mimetype": "text/x-python",
   "name": "python",
   "nbconvert_exporter": "python",
   "pygments_lexer": "ipython3",
   "version": "3.11.9"
  }
 },
 "nbformat": 4,
 "nbformat_minor": 2
}
